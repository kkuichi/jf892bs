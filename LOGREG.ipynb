{
 "cells": [
  {
   "cell_type": "code",
   "execution_count": 3,
   "id": "bcc57d8f-8746-4f5f-9689-b06bada1b7f2",
   "metadata": {},
   "outputs": [
    {
     "name": "stdout",
     "output_type": "stream",
     "text": [
      "Non-numeric columns in wave1_imputed.xlsx: Index(['Meno', 'Pohlavie', 'Dátum príjmu', 'Dátum prepustenia', 'HLN Dg.',\n",
      "       'Diagnózy', 'DRG výkony', 'Liečba', 'SVLZ správy', 'Mikrobiológia ',\n",
      "       'Epikríza', 'Terajšie ochorenie', 'Dôvod hospitalizácie',\n",
      "       'Objektívny nález', 'Osobná anamnéza', 'Lieková anamnéza',\n",
      "       'Návyková anamnéza', 'Epidemiologická anamnéza'],\n",
      "      dtype='object')\n"
     ]
    },
    {
     "name": "stderr",
     "output_type": "stream",
     "text": [
      "/opt/conda/lib/python3.12/site-packages/sklearn/linear_model/_logistic.py:465: ConvergenceWarning: lbfgs failed to converge (status=1):\n",
      "STOP: TOTAL NO. OF ITERATIONS REACHED LIMIT.\n",
      "\n",
      "Increase the number of iterations (max_iter) or scale the data as shown in:\n",
      "    https://scikit-learn.org/stable/modules/preprocessing.html\n",
      "Please also refer to the documentation for alternative solver options:\n",
      "    https://scikit-learn.org/stable/modules/linear_model.html#logistic-regression\n",
      "  n_iter_i = _check_optimize_result(\n"
     ]
    },
    {
     "name": "stdout",
     "output_type": "stream",
     "text": [
      "Non-numeric columns in wave2_imputed.xlsx: Index(['Meno', 'Pohlavie', 'Dátum príjmu', 'Dátum prepustenia', 'HLN Dg.',\n",
      "       'Diagnózy', 'DRG výkony', 'Liečba', 'SVLZ správy', 'Mikrobiológia ',\n",
      "       'Epikríza', 'Terajšie ochorenie', 'Dôvod hospitalizácie',\n",
      "       'Objektívny nález', 'Osobná anamnéza', 'Lieková anamnéza',\n",
      "       'Návyková anamnéza', 'Epidemiologická anamnéza'],\n",
      "      dtype='object')\n"
     ]
    },
    {
     "name": "stderr",
     "output_type": "stream",
     "text": [
      "/opt/conda/lib/python3.12/site-packages/sklearn/linear_model/_logistic.py:465: ConvergenceWarning: lbfgs failed to converge (status=1):\n",
      "STOP: TOTAL NO. OF ITERATIONS REACHED LIMIT.\n",
      "\n",
      "Increase the number of iterations (max_iter) or scale the data as shown in:\n",
      "    https://scikit-learn.org/stable/modules/preprocessing.html\n",
      "Please also refer to the documentation for alternative solver options:\n",
      "    https://scikit-learn.org/stable/modules/linear_model.html#logistic-regression\n",
      "  n_iter_i = _check_optimize_result(\n"
     ]
    },
    {
     "name": "stdout",
     "output_type": "stream",
     "text": [
      "Non-numeric columns in wave3_imputed.xlsx: Index(['Meno', 'Pohlavie', 'Dátum príjmu', 'Dátum prepustenia', 'HLN Dg.',\n",
      "       'Diagnózy', 'DRG výkony', 'Liečba', 'SVLZ správy', 'Mikrobiológia ',\n",
      "       'Epikríza', 'Terajšie ochorenie', 'Dôvod hospitalizácie',\n",
      "       'Objektívny nález', 'Osobná anamnéza', 'Lieková anamnéza',\n",
      "       'Návyková anamnéza', 'Epidemiologická anamnéza'],\n",
      "      dtype='object')\n"
     ]
    },
    {
     "name": "stderr",
     "output_type": "stream",
     "text": [
      "/opt/conda/lib/python3.12/site-packages/sklearn/linear_model/_logistic.py:465: ConvergenceWarning: lbfgs failed to converge (status=1):\n",
      "STOP: TOTAL NO. OF ITERATIONS REACHED LIMIT.\n",
      "\n",
      "Increase the number of iterations (max_iter) or scale the data as shown in:\n",
      "    https://scikit-learn.org/stable/modules/preprocessing.html\n",
      "Please also refer to the documentation for alternative solver options:\n",
      "    https://scikit-learn.org/stable/modules/linear_model.html#logistic-regression\n",
      "  n_iter_i = _check_optimize_result(\n"
     ]
    },
    {
     "name": "stdout",
     "output_type": "stream",
     "text": [
      "Non-numeric columns in wave4_imputed.xlsx: Index(['Meno', 'Pohlavie', 'Dátum príjmu', 'Dátum prepustenia', 'HLN Dg.',\n",
      "       'Diagnózy', 'DRG výkony', 'Liečba', 'SVLZ správy', 'Mikrobiológia ',\n",
      "       'Epikríza', 'Terajšie ochorenie', 'Dôvod hospitalizácie',\n",
      "       'Objektívny nález', 'Osobná anamnéza', 'Lieková anamnéza',\n",
      "       'Návyková anamnéza', 'Epidemiologická anamnéza'],\n",
      "      dtype='object')\n"
     ]
    },
    {
     "name": "stderr",
     "output_type": "stream",
     "text": [
      "/opt/conda/lib/python3.12/site-packages/sklearn/linear_model/_logistic.py:465: ConvergenceWarning: lbfgs failed to converge (status=1):\n",
      "STOP: TOTAL NO. OF ITERATIONS REACHED LIMIT.\n",
      "\n",
      "Increase the number of iterations (max_iter) or scale the data as shown in:\n",
      "    https://scikit-learn.org/stable/modules/preprocessing.html\n",
      "Please also refer to the documentation for alternative solver options:\n",
      "    https://scikit-learn.org/stable/modules/linear_model.html#logistic-regression\n",
      "  n_iter_i = _check_optimize_result(\n"
     ]
    },
    {
     "name": "stdout",
     "output_type": "stream",
     "text": [
      "✅ Hotovo! Výsledky uložené do 'results_LR.csv' a obrázky do PNG súborov.\n"
     ]
    }
   ],
   "source": [
    "import pandas as pd\n",
    "import numpy as np\n",
    "import seaborn as sns\n",
    "import matplotlib.pyplot as plt\n",
    "from sklearn.linear_model import LogisticRegression\n",
    "from sklearn.model_selection import train_test_split\n",
    "from sklearn.metrics import classification_report, confusion_matrix, roc_auc_score, roc_curve, auc\n",
    "from sklearn.preprocessing import LabelEncoder, label_binarize\n",
    "\n",
    "files = ['wave1_imputed.xlsx', 'wave2_imputed.xlsx', 'wave3_imputed.xlsx', 'wave4_imputed.xlsx']\n",
    "results = []\n",
    "\n",
    "for file in files:\n",
    "    df = pd.read_excel(file)\n",
    "\n",
    "    X = df.drop(columns=['Závažnosť priebehu ochorenia'])\n",
    "    y = df['Závažnosť priebehu ochorenia']\n",
    "\n",
    "    y = y.astype('category').cat.codes\n",
    "    class_labels = np.unique(y)\n",
    "    y_bin = label_binarize(y, classes=class_labels)\n",
    "\n",
    "    non_numeric_columns = X.select_dtypes(include=['object']).columns\n",
    "    print(f\"Non-numeric columns in {file}:\", non_numeric_columns)\n",
    "    \n",
    "    for column in non_numeric_columns:\n",
    "        le = LabelEncoder()\n",
    "        X[column] = le.fit_transform(X[column].astype(str))\n",
    "\n",
    "    X_train, X_test, y_train, y_test, y_bin_train, y_bin_test = train_test_split(\n",
    "        X, y, y_bin, test_size=0.2, random_state=42\n",
    "    )\n",
    "\n",
    "    model = LogisticRegression(solver='lbfgs', max_iter=2000) \n",
    "    model.fit(X_train, y_train)\n",
    "\n",
    "    y_pred = model.predict(X_test)\n",
    "    y_pred_proba = model.predict_proba(X_test)\n",
    "\n",
    "    report = classification_report(y_test, y_pred, output_dict=True, zero_division=0)\n",
    "    acc = report['accuracy']\n",
    "    f1_macro = report['macro avg']['f1-score']\n",
    "    precision_macro = report['macro avg']['precision']\n",
    "    recall_macro = report['macro avg']['recall']\n",
    "\n",
    "    try:\n",
    "        auc_macro = roc_auc_score(y_bin_test, y_pred_proba, average='macro', multi_class='ovr')\n",
    "    except ValueError:\n",
    "        auc_macro = np.nan\n",
    "\n",
    "    results.append({\n",
    "        'dataset': file,\n",
    "        'accuracy': round(acc, 4),\n",
    "        'f1_macro': round(f1_macro, 4),\n",
    "        'precision_macro': round(precision_macro, 4),\n",
    "        'recall_macro': round(recall_macro, 4),\n",
    "        'auc_macro': round(auc_macro, 4) if not np.isnan(auc_macro) else 'N/A'\n",
    "    })\n",
    "\n",
    "    cm = confusion_matrix(y_test, y_pred)\n",
    "    plt.figure(figsize=(6, 4))\n",
    "    sns.heatmap(cm, annot=True, fmt='d', cmap='Blues')\n",
    "    plt.title(f'Confusion Matrix - {file}')\n",
    "    plt.xlabel('Predicted')\n",
    "    plt.ylabel('Actual')\n",
    "    plt.tight_layout()\n",
    "    plt.savefig(f'conf_matrix_{file.replace(\".xlsx\", \"\")}_LR.png')\n",
    "    plt.close()\n",
    "\n",
    "    plt.figure(figsize=(8, 6))\n",
    "    for i in range(len(class_labels)):\n",
    "        fpr, tpr, _ = roc_curve(y_bin_test[:, i], y_pred_proba[:, i])\n",
    "        roc_auc = auc(fpr, tpr) \n",
    "        plt.plot(fpr, tpr, lw=2, label=f'Class {class_labels[i]} (AUC = {roc_auc:.2f})')\n",
    "\n",
    "    plt.plot([0, 1], [0, 1], color='gray', linestyle='--')  \n",
    "    plt.xlabel('False Positive Rate')\n",
    "    plt.ylabel('True Positive Rate')\n",
    "    plt.title(f'ROC Curve - {file}')\n",
    "    plt.legend(loc='lower right')\n",
    "    plt.tight_layout()\n",
    "    plt.savefig(f'roc_curve_{file.replace(\".xlsx\", \"\")}_LR.png')\n",
    "    plt.close()\n",
    "\n",
    "results_df = pd.DataFrame(results)\n",
    "results_df.to_csv('results_LR.csv', index=False)\n",
    "\n",
    "print(\"Výsledky uložené do 'results_LR.csv' a obrázky do PNG súborov.\")"
   ]
  },
  {
   "cell_type": "code",
   "execution_count": null,
   "id": "ba6b2677-e578-4c3e-b7cd-89345dd817a0",
   "metadata": {},
   "outputs": [],
   "source": []
  }
 ],
 "metadata": {
  "kernelspec": {
   "display_name": "Python 3 (ipykernel)",
   "language": "python",
   "name": "python3"
  },
  "language_info": {
   "codemirror_mode": {
    "name": "ipython",
    "version": 3
   },
   "file_extension": ".py",
   "mimetype": "text/x-python",
   "name": "python",
   "nbconvert_exporter": "python",
   "pygments_lexer": "ipython3",
   "version": "3.12.10"
  }
 },
 "nbformat": 4,
 "nbformat_minor": 5
}
