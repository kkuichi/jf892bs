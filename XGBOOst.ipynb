{
 "cells": [
  {
   "cell_type": "code",
   "execution_count": 1,
   "id": "df8ee954-597a-4662-a0bc-116be8398eca",
   "metadata": {},
   "outputs": [
    {
     "name": "stdout",
     "output_type": "stream",
     "text": [
      "Collecting xgboost\n",
      "  Downloading xgboost-3.0.0-py3-none-manylinux_2_28_x86_64.whl.metadata (2.1 kB)\n",
      "Requirement already satisfied: numpy in /opt/conda/lib/python3.12/site-packages (from xgboost) (1.26.4)\n",
      "Collecting nvidia-nccl-cu12 (from xgboost)\n",
      "  Downloading nvidia_nccl_cu12-2.26.5-py3-none-manylinux2014_x86_64.manylinux_2_17_x86_64.whl.metadata (2.0 kB)\n",
      "Requirement already satisfied: scipy in /opt/conda/lib/python3.12/site-packages (from xgboost) (1.15.2)\n",
      "Downloading xgboost-3.0.0-py3-none-manylinux_2_28_x86_64.whl (253.9 MB)\n",
      "\u001b[2K   \u001b[90m━━━━━━━━━━━━━━━━━━━━━━━━━━━━━━━━━━━━━━━━\u001b[0m \u001b[32m253.9/253.9 MB\u001b[0m \u001b[31m19.2 MB/s\u001b[0m eta \u001b[36m0:00:00\u001b[0m00:01\u001b[0m00:01\u001b[0m\n",
      "\u001b[?25hDownloading nvidia_nccl_cu12-2.26.5-py3-none-manylinux2014_x86_64.manylinux_2_17_x86_64.whl (318.1 MB)\n",
      "\u001b[2K   \u001b[90m━━━━━━━━━━━━━━━━━━━━━━━━━━━━━━━━━━━━━━━━\u001b[0m \u001b[32m318.1/318.1 MB\u001b[0m \u001b[31m20.4 MB/s\u001b[0m eta \u001b[36m0:00:00\u001b[0m00:01\u001b[0m00:01\u001b[0m\n",
      "\u001b[?25hInstalling collected packages: nvidia-nccl-cu12, xgboost\n",
      "Successfully installed nvidia-nccl-cu12-2.26.5 xgboost-3.0.0\n",
      "Note: you may need to restart the kernel to use updated packages.\n"
     ]
    }
   ],
   "source": [
    "pip install xgboost\n"
   ]
  },
  {
   "cell_type": "code",
   "execution_count": 3,
   "id": "878c0a1c-8651-4da9-8505-573a90c115fe",
   "metadata": {},
   "outputs": [
    {
     "name": "stdout",
     "output_type": "stream",
     "text": [
      "Non-numeric columns in wave1_imputed.xlsx: Index(['Meno', 'Pohlavie', 'Dátum príjmu', 'Dátum prepustenia', 'HLN Dg.',\n",
      "       'Diagnózy', 'DRG výkony', 'Liečba', 'SVLZ správy', 'Mikrobiológia ',\n",
      "       'Epikríza', 'Terajšie ochorenie', 'Dôvod hospitalizácie',\n",
      "       'Objektívny nález', 'Osobná anamnéza', 'Lieková anamnéza',\n",
      "       'Návyková anamnéza', 'Epidemiologická anamnéza'],\n",
      "      dtype='object')\n"
     ]
    },
    {
     "name": "stderr",
     "output_type": "stream",
     "text": [
      "/opt/conda/lib/python3.12/site-packages/xgboost/training.py:183: UserWarning: [20:55:17] WARNING: /workspace/src/learner.cc:738: \n",
      "Parameters: { \"use_label_encoder\" } are not used.\n",
      "\n",
      "  bst.update(dtrain, iteration=i, fobj=obj)\n"
     ]
    },
    {
     "name": "stdout",
     "output_type": "stream",
     "text": [
      "Non-numeric columns in wave2_imputed.xlsx: Index(['Meno', 'Pohlavie', 'Dátum príjmu', 'Dátum prepustenia', 'HLN Dg.',\n",
      "       'Diagnózy', 'DRG výkony', 'Liečba', 'SVLZ správy', 'Mikrobiológia ',\n",
      "       'Epikríza', 'Terajšie ochorenie', 'Dôvod hospitalizácie',\n",
      "       'Objektívny nález', 'Osobná anamnéza', 'Lieková anamnéza',\n",
      "       'Návyková anamnéza', 'Epidemiologická anamnéza'],\n",
      "      dtype='object')\n"
     ]
    },
    {
     "name": "stderr",
     "output_type": "stream",
     "text": [
      "/opt/conda/lib/python3.12/site-packages/xgboost/training.py:183: UserWarning: [20:55:24] WARNING: /workspace/src/learner.cc:738: \n",
      "Parameters: { \"use_label_encoder\" } are not used.\n",
      "\n",
      "  bst.update(dtrain, iteration=i, fobj=obj)\n"
     ]
    },
    {
     "name": "stdout",
     "output_type": "stream",
     "text": [
      "Non-numeric columns in wave3_imputed.xlsx: Index(['Meno', 'Pohlavie', 'Dátum príjmu', 'Dátum prepustenia', 'HLN Dg.',\n",
      "       'Diagnózy', 'DRG výkony', 'Liečba', 'SVLZ správy', 'Mikrobiológia ',\n",
      "       'Epikríza', 'Terajšie ochorenie', 'Dôvod hospitalizácie',\n",
      "       'Objektívny nález', 'Osobná anamnéza', 'Lieková anamnéza',\n",
      "       'Návyková anamnéza', 'Epidemiologická anamnéza'],\n",
      "      dtype='object')\n"
     ]
    },
    {
     "name": "stderr",
     "output_type": "stream",
     "text": [
      "/opt/conda/lib/python3.12/site-packages/xgboost/training.py:183: UserWarning: [20:55:30] WARNING: /workspace/src/learner.cc:738: \n",
      "Parameters: { \"use_label_encoder\" } are not used.\n",
      "\n",
      "  bst.update(dtrain, iteration=i, fobj=obj)\n"
     ]
    },
    {
     "name": "stdout",
     "output_type": "stream",
     "text": [
      "Non-numeric columns in wave4_imputed.xlsx: Index(['Meno', 'Pohlavie', 'Dátum príjmu', 'Dátum prepustenia', 'HLN Dg.',\n",
      "       'Diagnózy', 'DRG výkony', 'Liečba', 'SVLZ správy', 'Mikrobiológia ',\n",
      "       'Epikríza', 'Terajšie ochorenie', 'Dôvod hospitalizácie',\n",
      "       'Objektívny nález', 'Osobná anamnéza', 'Lieková anamnéza',\n",
      "       'Návyková anamnéza', 'Epidemiologická anamnéza'],\n",
      "      dtype='object')\n"
     ]
    },
    {
     "name": "stderr",
     "output_type": "stream",
     "text": [
      "/opt/conda/lib/python3.12/site-packages/xgboost/training.py:183: UserWarning: [20:55:39] WARNING: /workspace/src/learner.cc:738: \n",
      "Parameters: { \"use_label_encoder\" } are not used.\n",
      "\n",
      "  bst.update(dtrain, iteration=i, fobj=obj)\n"
     ]
    },
    {
     "name": "stdout",
     "output_type": "stream",
     "text": [
      "✅ Hotovo! Výsledky uložené do 'results_XGB.csv', obrázky ROC kriviek a Confusion Matrix uložené do PNG súborov.\n"
     ]
    }
   ],
   "source": [
    "import pandas as pd\n",
    "import numpy as np\n",
    "import seaborn as sns\n",
    "import matplotlib.pyplot as plt\n",
    "from xgboost import XGBClassifier\n",
    "from sklearn.model_selection import train_test_split\n",
    "from sklearn.metrics import classification_report, confusion_matrix, roc_auc_score, roc_curve\n",
    "from sklearn.preprocessing import LabelEncoder, label_binarize\n",
    "\n",
    "files = ['wave1_imputed.xlsx', 'wave2_imputed.xlsx', 'wave3_imputed.xlsx', 'wave4_imputed.xlsx']\n",
    "results = []\n",
    "\n",
    "for file in files:\n",
    "    df = pd.read_excel(file)\n",
    "\n",
    "    X = df.drop(columns=['Závažnosť priebehu ochorenia'])\n",
    "    y = df['Závažnosť priebehu ochorenia']\n",
    "\n",
    "    y = y.astype('category').cat.codes\n",
    "    class_labels = np.unique(y)\n",
    "    y_bin = label_binarize(y, classes=class_labels)\n",
    "\n",
    "    non_numeric_columns = X.select_dtypes(include=['object']).columns\n",
    "    print(f\"Non-numeric columns in {file}:\", non_numeric_columns)\n",
    "\n",
    "    le = LabelEncoder()\n",
    "    for column in non_numeric_columns:\n",
    "        X[column] = le.fit_transform(X[column].astype(str))\n",
    "\n",
    "    X_train, X_test, y_train, y_test, y_bin_train, y_bin_test = train_test_split(\n",
    "        X, y, y_bin, test_size=0.2, random_state=42\n",
    "    )\n",
    "\n",
    "    model = XGBClassifier(use_label_encoder=False, eval_metric='mlogloss', random_state=42)\n",
    "    model.fit(X_train, y_train)\n",
    "\n",
    "    y_pred = model.predict(X_test)\n",
    "    y_pred_proba = model.predict_proba(X_test)\n",
    "\n",
    "    report = classification_report(y_test, y_pred, output_dict=True, zero_division=0)\n",
    "\n",
    "    acc = report['accuracy']\n",
    "    f1_macro = report['macro avg']['f1-score']\n",
    "    precision_macro = report['macro avg']['precision']\n",
    "    recall_macro = report['macro avg']['recall']\n",
    "\n",
    "    try:\n",
    "        auc_macro = roc_auc_score(y_bin_test, y_pred_proba, average='macro', multi_class='ovr')\n",
    "    except ValueError:\n",
    "        auc_macro = np.nan\n",
    "\n",
    "    results.append({\n",
    "        'dataset': file,\n",
    "        'accuracy': round(acc, 4),\n",
    "        'f1_macro': round(f1_macro, 4),\n",
    "        'precision_macro': round(precision_macro, 4),\n",
    "        'recall_macro': round(recall_macro, 4),\n",
    "        'auc_macro': round(auc_macro, 4) if not np.isnan(auc_macro) else 'N/A'\n",
    "    })\n",
    "\n",
    "    cm = confusion_matrix(y_test, y_pred)\n",
    "    plt.figure(figsize=(6, 4))\n",
    "    sns.heatmap(cm, annot=True, fmt='d', cmap='Blues')\n",
    "    plt.title(f'Confusion Matrix - {file}')\n",
    "    plt.xlabel('Predicted')\n",
    "    plt.ylabel('Actual')\n",
    "    plt.tight_layout()\n",
    "    plt.savefig(f'conf_matrix_{file.replace(\".xlsx\", \"\")}_XGB.png')\n",
    "    plt.close()\n",
    "\n",
    "    plt.figure(figsize=(10, 8))\n",
    "    for i in range(len(class_labels)):\n",
    "        fpr, tpr, _ = roc_curve(y_bin_test[:, i], y_pred_proba[:, i])\n",
    "        auc = roc_auc_score(y_bin_test[:, i], y_pred_proba[:, i])\n",
    "        plt.plot(fpr, tpr, label=f'Trieda {class_labels[i]} (AUC = {auc:.2f})')\n",
    "\n",
    "    plt.plot([0, 1], [0, 1], color='navy', linestyle='--')  \n",
    "    plt.title(f'ROC krivka pre {file}')\n",
    "    plt.xlabel('False Positive Rate')\n",
    "    plt.ylabel('True Positive Rate')\n",
    "    plt.legend(loc='lower right')\n",
    "    plt.tight_layout()\n",
    "    plt.savefig(f'roc_curve_{file.replace(\".xlsx\", \"\")}_XGB.png')\n",
    "    plt.close()\n",
    "\n",
    "\n",
    "results_df = pd.DataFrame(results)\n",
    "results_df.to_csv('results_XGB.csv', index=False)\n",
    "\n",
    "print(\"Výsledky uložené do 'results_XGB.csv', obrázky ROC kriviek a Confusion Matrix uložené do PNG súborov.\")\n"
   ]
  },
  {
   "cell_type": "code",
   "execution_count": null,
   "id": "f1400005-9cef-4176-ab54-29f94d52b8e4",
   "metadata": {},
   "outputs": [],
   "source": []
  }
 ],
 "metadata": {
  "kernelspec": {
   "display_name": "Python 3 (ipykernel)",
   "language": "python",
   "name": "python3"
  },
  "language_info": {
   "codemirror_mode": {
    "name": "ipython",
    "version": 3
   },
   "file_extension": ".py",
   "mimetype": "text/x-python",
   "name": "python",
   "nbconvert_exporter": "python",
   "pygments_lexer": "ipython3",
   "version": "3.12.10"
  }
 },
 "nbformat": 4,
 "nbformat_minor": 5
}
